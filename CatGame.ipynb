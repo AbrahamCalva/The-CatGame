{
 "cells": [
  {
   "cell_type": "markdown",
   "id": "862d1d27-162c-49e9-a9eb-f7a9ce52d1d2",
   "metadata": {},
   "source": [
    "El juego funciona para dos personas, X y O. Este tablero consiste en 9 botones, establecidos en una cuadricula de 3x3. Empiza con un tablero vacío y los jugadores toman turnos para indicar su movimiento (iniciando con el primer movimiento O y el segundo X), el juego termina cuando un jugador gana teniendo tres lieneas consecutivas, en una columna, fila o en diagonal."
   ]
  },
  {
   "cell_type": "markdown",
   "id": "d106713c-5740-4b67-9eef-29a2fa63f771",
   "metadata": {},
   "source": [
    "En general el juego hace lo siguiente:\n",
    "- Inicia el juego en un loop.\n",
    "- Imprime el estado actual del tablero\n",
    "- Pregunta al jugador por su tirada (donde poner su marca).\n",
    "- Validar el input y actualizarlo.\n",
    "- Checar si el juego ah terminado.\n",
    "- Si terminó, mostrar que jugador a ganado.\n",
    "- Reiniciar al cerrar la ventana.\n",
    "\n"
   ]
  },
  {
   "cell_type": "markdown",
   "id": "f0983360-a889-4f77-9a07-00d2b93b8fa2",
   "metadata": {},
   "source": [
    "# Clase Cat:\n",
    "\n",
    "Propósito: Esta clase sería el núcleo del juego, encargada de manejar la lógica principal y la interacción entre el tablero y los jugadores.\n",
    "\n",
    "Atributos:\n",
    "- **current_player**: Indica el jugador actual (X u O).\n",
    "- **board**: Una matriz de 3x3 que representa el estado actual del tablero.\n",
    "\n",
    "Métodos:\n",
    "- **switch_player()**: Cambia el jugador actual entre \"X\" y \"O\".\n",
    "- **check_winner()**: Verifica si hay un ganador en el juego (\"Jugador (X u O) GANO\").\n",
    "- **check_draw()**: Verifica si el juego ha terminado en empaten (\"Esto ha sido un Empate\").\n",
    "- **reset_game()**: Reinicia el juego a su estado inicial.\n",
    "- **play_turn(row, col)**: Maneja la lógica de un turno cuando un jugador hace clic en una celda del tablero. Recibe la fila y la columna como parámetros y no devuelve nada."
   ]
  },
  {
   "cell_type": "markdown",
   "id": "b1368a29-217c-4c84-a2d8-7fe402a6aa57",
   "metadata": {},
   "source": [
    "# Clase CatBoard:\n",
    "\n",
    "Propósito: Esta clase maneja la lógica del tablero, como la inicialización, actualización y verificación de su estado.\n",
    "\n",
    "Atributos:\n",
    "- **board**: Una matriz de 3x3 que representa el tablero del juego.\n",
    "\n",
    "Métodos:\n",
    "- **initialize_board()**: Inicializa o reinicia el tablero.\n",
    "- **update_board(row, col, player)**: Actualiza el tablero con la jugada de un jugador en una posición específica.\n",
    "- **is_cell_empty(row, col)**: Verifica si una celda específica está vacía. Recibe la fila y la columna y devuelve un booleano.\n",
    "- **get_board_state()**: Devuelve el estado actual del tablero."
   ]
  },
  {
   "cell_type": "markdown",
   "id": "2f7d83bf-e84a-4143-97c7-ea0edd8973fd",
   "metadata": {},
   "source": [
    "Lo implementamos como:\n",
    "\n",
    "- Inicializamos el tablero con 9 botones vacíos.\n",
    "- Poner el juagor O \n",
    "- Loopear el juego hasta que termine.\n",
    "- imprimir el estado actual del tablero\n",
    "- preguntar al jugador donde va a tirar\n",
    "- validar el input (si lo coloco en un lugar ya ocupado o vacio)\n",
    "- Recargar el tablero con los simbolos del juego actual\n",
    "- checar si el juego ah terminado (ganador o empate)\n",
    "- si el juego terminó, reiniciar el juego al precionar ok\n",
    "- Si no terminó, pasarle la jugada al siguiente jugador"
   ]
  }
 ],
 "metadata": {
  "kernelspec": {
   "display_name": "Python 3 (ipykernel)",
   "language": "python",
   "name": "python3"
  },
  "language_info": {
   "codemirror_mode": {
    "name": "ipython",
    "version": 3
   },
   "file_extension": ".py",
   "mimetype": "text/x-python",
   "name": "python",
   "nbconvert_exporter": "python",
   "pygments_lexer": "ipython3",
   "version": "3.12.2"
  }
 },
 "nbformat": 4,
 "nbformat_minor": 5
}
