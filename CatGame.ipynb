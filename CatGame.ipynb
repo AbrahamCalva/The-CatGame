{
 "cells": [
  {
   "cell_type": "markdown",
   "id": "9387f05f",
   "metadata": {
    "vscode": {
     "languageId": "plaintext"
    }
   },
   "source": [
    "Este código implementa el juego del Gato utilizando la biblioteca tkinter para la interfaz gráfica y contiene la lógica del juego en dos clases: Cat, que maneja las reglas y la lógica interna, y Board, que gestiona la interfaz gráfica y la interacción con el usuario. El juego permite a dos jugadores alternar turnos, hacer clic en las celdas para realizar movimientos, verificar si hay un ganador o empate, y reiniciar el juego cuando es necesario."
   ]
  },
  {
   "cell_type": "markdown",
   "id": "d106713c-5740-4b67-9eef-29a2fa63f771",
   "metadata": {},
   "source": [
    "En general, el juego hace lo siguiente:\n",
    "\n",
    "- Inicia el juego en una ventana gráfica.\n",
    "- Alterna turnos entre los jugadores.\n",
    "- Permite hacer clic en las celdas del tablero para jugar.\n",
    "- Verifica si hay un ganador o empate.\n",
    "- Muestra un mensaje con el resultado.\n",
    "- Reinicia el juego cuando termina.\n",
    "\n"
   ]
  },
  {
   "cell_type": "markdown",
   "id": "378313a4",
   "metadata": {},
   "source": [
    "![Cat Game Logo](./Cat_Game.png)"
   ]
  },
  {
   "cell_type": "markdown",
   "id": "06473496",
   "metadata": {
    "vscode": {
     "languageId": "plaintext"
    }
   },
   "source": [
    "# Clase cat"
   ]
  },
  {
   "cell_type": "markdown",
   "id": "8017842d",
   "metadata": {
    "vscode": {
     "languageId": "plaintext"
    }
   },
   "source": [
    "Atributos:\n",
    "- **current_player**: Es un string que almacena el jugador actual, ya sea \"O\" o \"X\".\n",
    "- **board**: Es una lista de listas (una matriz de 3x3) que representa el tablero del juego, donde cada celda puede estar vacía o contener \"O\" o \"X\"."
   ]
  },
  {
   "cell_type": "markdown",
   "id": "e98a3335",
   "metadata": {},
   "source": [
    "Métodos:\n",
    "\n",
    "- **__init__()**: Constructor que inicializa el juego. Establece al jugador actual como \"X\" y crea un tablero vacío (una lista 3x3 llena de strings vacíos).\n",
    "- **switch_player()**: Cambia el jugador actual. Si es \"O\", lo cambia a \"X\", y viceversa.\n",
    "- **make_move(x, y)**: Intenta hacer un movimiento en la posición (x, y) del tablero. Si la celda está vacía, coloca el símbolo del jugador actual y devuelve True, indicando que el movimiento fue exitoso. Si la celda ya está ocupada, devuelve False.\n",
    "- **check_winner()**: Verifica si el jugador actual ha ganado. Revisa si hay tres símbolos iguales en una fila, columna o diagonal. Si hay un ganador, devuelve True; de lo contrario, devuelve False.\n",
    "- **reset_game()**: Reinicia el juego, estableciendo el tablero en blanco y asignando el turno al jugador \"O\"."
   ]
  },
  {
   "cell_type": "markdown",
   "id": "104c04e5",
   "metadata": {},
   "source": [
    "# Clase Board"
   ]
  },
  {
   "cell_type": "markdown",
   "id": "67970168",
   "metadata": {},
   "source": [
    "Atributos:\n",
    "- **root**: Es la ventana principal de la aplicación gráfica, que pertenece al tipo Tk (de la biblioteca tkinter).\n",
    "- **cat_game**: Es una instancia de la clase Cat, que contiene la lógica del juego.\n",
    "- **buttons**: Es una lista de listas (una matriz de 3x3) de botones que representan las celdas del tablero en la interfaz gráfica. Cada botón está asociado a una celda en el tablero y permite a los jugadores hacer clic para realizar un movimiento."
   ]
  },
  {
   "cell_type": "markdown",
   "id": "4bc271c8",
   "metadata": {},
   "source": [
    "Métodos:\n",
    "- **__init__(root)**: Constructor que inicializa la interfaz gráfica. Crea la ventana principal del juego y el tablero de botones. Cada botón está asociado a un comando que llama al método handle_click.\n",
    "- **handle_click(x, y)**: Maneja el evento de clic en una celda específica (x, y). Si el movimiento es válido (es decir, la celda está vacía), actualiza el texto del botón con el símbolo del jugador actual y verifica si hay un ganador. Si hay un ganador, muestra un mensaje de victoria y reinicia el juego. Si no hay movimientos válidos restantes, declara un empate y también reinicia el juego.\n",
    "- **reset_game()**: Reinicia el juego tanto en la lógica como en la interfaz gráfica. Borra el texto de todos los botones y reinicia el estado del juego llamando al método reset_game de la clase Cat."
   ]
  },
  {
   "cell_type": "markdown",
   "id": "1a9f56f1",
   "metadata": {},
   "source": [
    "Estas dos clases trabajan juntas para proporcionar la lógica y la interfaz gráfica del juego del Gato. La clase Cat maneja la lógica interna del juego, mientras que la clase Board maneja la interacción gráfica con el usuario."
   ]
  }
 ],
 "metadata": {
  "kernelspec": {
   "display_name": "Python 3 (ipykernel)",
   "language": "python",
   "name": "python3"
  },
  "language_info": {
   "codemirror_mode": {
    "name": "ipython",
    "version": 3
   },
   "file_extension": ".py",
   "mimetype": "text/x-python",
   "name": "python",
   "nbconvert_exporter": "python",
   "pygments_lexer": "ipython3",
   "version": "3.12.2"
  }
 },
 "nbformat": 4,
 "nbformat_minor": 5
}
